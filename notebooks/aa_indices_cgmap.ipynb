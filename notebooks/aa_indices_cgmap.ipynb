{
 "cells": [
  {
   "cell_type": "markdown",
   "metadata": {},
   "source": [
    "## Integrin\n",
    "## DMap and decoder"
   ]
  },
  {
   "cell_type": "markdown",
   "metadata": {},
   "source": [
    "## setup"
   ]
  },
  {
   "cell_type": "code",
   "execution_count": null,
   "metadata": {
    "scrolled": true
   },
   "outputs": [],
   "source": []
  },
  {
   "cell_type": "code",
   "execution_count": 1,
   "metadata": {
    "scrolled": true
   },
   "outputs": [
    {
     "name": "stdout",
     "output_type": "stream",
     "text": [
      "no display found. Using non-interactive Agg backend\n"
     ]
    },
    {
     "data": {
      "application/vnd.jupyter.widget-view+json": {
       "model_id": "a9988345f06e455bb6cf90ef38136371",
       "version_major": 2,
       "version_minor": 0
      },
      "text/plain": []
     },
     "metadata": {},
     "output_type": "display_data"
    }
   ],
   "source": [
    "import os\n",
    "import sys\n",
    "import math\n",
    "import time\n",
    "import pickle\n",
    "import copy\n",
    "#import mdtraj\n",
    "import MDAnalysis as mda\n",
    "#import pyemma\n",
    "#import pyemma.util.contexts\n",
    "import networkx as nx\n",
    "import random\n",
    "#import parmed as pmd\n",
    "import acpype\n",
    "import pandas as pd\n",
    "from MDAnalysis.analysis import distances\n",
    "\n",
    "\n",
    "import numpy as np\n",
    "from scipy.linalg import eigh\n",
    "from scipy.spatial.distance import pdist\n",
    "from scipy.interpolate import interp1d\n",
    "import matplotlib as mpl\n",
    "from matplotlib import ticker\n",
    "if os.environ.get('DISPLAY','') == '':\n",
    "    print('no display found. Using non-interactive Agg backend')\n",
    "    mpl.use('Agg')\n",
    "import matplotlib.pyplot as plt\n",
    "from mpl_toolkits.mplot3d import Axes3D\n",
    "\n",
    "import torch\n",
    "#import torch.optim as optim\n",
    "#import torch.nn as nn\n",
    "#from torchviz import make_dot\n",
    "#from torch.utils.data import Dataset, TensorDataset, DataLoader\n",
    "#from torch.utils.data.dataset import random_split\n",
    "#from tqdm import tqdm\n",
    "\n",
    "#import deeptime\n",
    "#from deeptime.decomposition import TICA\n",
    "#from deeptime.clustering import KMeans\n",
    "##import mdshare\n",
    "\n",
    "from sklearn.preprocessing import MinMaxScaler\n",
    "\n",
    "from jax import numpy as jnp, jit, vmap\n",
    "from MDAnalysis.analysis import rms #diffusionmap, align, rms\n",
    "\n",
    "import nglview as nv\n"
   ]
  },
  {
   "cell_type": "code",
   "execution_count": null,
   "metadata": {
    "scrolled": true
   },
   "outputs": [],
   "source": []
  },
  {
   "cell_type": "markdown",
   "metadata": {},
   "source": [
    "#### plot settings"
   ]
  },
  {
   "cell_type": "code",
   "execution_count": 2,
   "metadata": {
    "scrolled": true
   },
   "outputs": [],
   "source": [
    "showPlots=1\n",
    "useMagics=1\n",
    "if useMagics:\n",
    "    %matplotlib inline\n",
    "    #%matplotlib notebook\n",
    "    %load_ext autoreload\n",
    "    %autoreload 2\n",
    "    %reload_ext autoreload\n",
    "    \n",
    "font = {'weight' : 'normal',\n",
    "        'size'   : 25}\n",
    "\n",
    "plt.rc('font', **font)"
   ]
  },
  {
   "cell_type": "code",
   "execution_count": null,
   "metadata": {
    "scrolled": true
   },
   "outputs": [],
   "source": []
  },
  {
   "cell_type": "markdown",
   "metadata": {},
   "source": [
    "#### all atom data"
   ]
  },
  {
   "cell_type": "code",
   "execution_count": 3,
   "metadata": {
    "scrolled": true
   },
   "outputs": [
    {
     "name": "stderr",
     "output_type": "stream",
     "text": [
      "/project2/andrewferguson/sivadasetty/doe/elss/lib/python3.9/site-packages/MDAnalysis/topology/PDBParser.py:331: UserWarning: Element information is missing, elements attribute will not be populated. If needed these can be guessed using MDAnalysis.topology.guessers.\n",
      "  warnings.warn(\"Element information is missing, elements attribute \"\n",
      "/project2/andrewferguson/sivadasetty/doe/elss/lib/python3.9/site-packages/MDAnalysis/coordinates/PDB.py:451: UserWarning: 1 A^3 CRYST1 record, this is usually a placeholder. Unit cell dimensions will be set to None.\n",
      "  warnings.warn(\"1 A^3 CRYST1 record,\"\n"
     ]
    }
   ],
   "source": [
    "universe_aa_trajs = []\n",
    "\n",
    "file_dir = '/project2/andrewferguson/sivadasetty/doe/analysis-integrin/'\n",
    "\n",
    "for rep in ['intermediate1_ff/int1_protein_only']: \n",
    "\n",
    "    file_aa_traj = file_dir + 'multiple_fake_points_integrin/all-atom/' + rep + '.pdb'\n",
    "\n",
    "    universe_aa_trajs.append( mda.Universe(file_aa_traj) )\n",
    "    \n",
    "    \n",
    "universe_cg_trajs = []\n",
    "\n",
    "for i in range(19):\n",
    "    \n",
    "    file_cg_traj = file_dir + 'string_mechanisms/deadbolt/initial_cg_frames/fr_beta_int_' + str(i) + '.pdb' \n",
    "            \n",
    "    universe_cg_trajs.append(mda.Universe(file_cg_traj))\n"
   ]
  },
  {
   "cell_type": "code",
   "execution_count": 4,
   "metadata": {
    "scrolled": true
   },
   "outputs": [
    {
     "data": {
      "text/plain": [
       "array([    4,    23,    37, ..., 26863, 26887, 26894])"
      ]
     },
     "execution_count": 4,
     "metadata": {},
     "output_type": "execute_result"
    }
   ],
   "source": [
    "universe_aa_trajs[0].select_atoms('name CA').indices"
   ]
  },
  {
   "cell_type": "code",
   "execution_count": null,
   "metadata": {
    "scrolled": true
   },
   "outputs": [],
   "source": []
  },
  {
   "cell_type": "markdown",
   "metadata": {},
   "source": [
    "#### Generate target PDB files -- based on both bent mapping"
   ]
  },
  {
   "cell_type": "code",
   "execution_count": 50,
   "metadata": {
    "scrolled": true
   },
   "outputs": [],
   "source": [
    "### create a universe for CG model [from example in MDAnalysis]\n",
    "\n",
    "\n",
    "bent_select_map = 'ba_bent'\n",
    "universe_index = 0\n",
    "\n",
    "file_dir = '/project2/andrewferguson/sivadasetty/doe/analysis-integrin/'\n",
    "\n",
    "bent_aa_cg_map = pd.read_csv(file_dir + 'multiple_fake_points_integrin/cg_mapping/' + bent_select_map + '.dat', names=['map'])\n",
    "\n",
    "#print(bent_aa_cg_map)\n",
    "\n",
    "\n",
    "bent_indices = []\n",
    "for i in range(1, 301):\n",
    "    \n",
    "    ## get atoms for each CG site\n",
    "    bent_idx = np.where(bent_aa_cg_map.map == i)\n",
    "    ## get one of the atom index (central) in each CG site\n",
    "    bent_indices.append(bent_idx[0][len(bent_idx[0])//2])\n",
    "    #cg_pos_frame_0.append( universe_aa_trajs[universe_index].trajectory[0].positions[idx].mean(axis=0) )\n",
    "    \n",
    "    \n",
    "n_residues = 300\n",
    "n_atoms = n_residues\n",
    "# create resindex list\n",
    "resindices = np.arange(n_residues)\n",
    "# all water molecules belong to 1 segment\n",
    "segindices = [0] * n_residues\n",
    "  \n",
    "\n",
    "### topology attributes\n",
    "from MDAnalysis.coordinates.memory import MemoryReader\n",
    "\n",
    "target_cg_universe_list = []\n",
    "for i in range(19):\n",
    "\n",
    "    # create the Universe\n",
    "    target_cg_universe = mda.Universe.empty(n_atoms,n_residues=n_residues,\n",
    "                                            atom_resindex=resindices,residue_segindex=segindices,\n",
    "                                            trajectory=True) # necessary for adding coordinates\n",
    "    \n",
    "    target_cg_universe.add_TopologyAttr('name', ['CG']*n_residues)\n",
    "    target_cg_universe.add_TopologyAttr('type', ['CG']*n_residues)\n",
    "    \n",
    "    mapping_on = 'bent' \n",
    "    ## TWO MAPPINGS: This is for determing CA ATOM indices to match in RMSD calculation.\n",
    "    ## BENT and INTERMEDIATE have the same mapping.\n",
    "    if mapping_on == 'bent':\n",
    "        aa_traj_index = 0\n",
    "        indices = bent_indices    \n",
    "    else:\n",
    "        raise Exception(\"INVALID OPTION\")    \n",
    "\n",
    "    target_cg_universe.add_TopologyAttr('resid', indices)\n",
    "    target_cg_universe.add_TopologyAttr('id', universe_aa_trajs[aa_traj_index].select_atoms('name CA').indices[indices]+1)\n",
    "    \n",
    "    # For finding residues (ignore previous one)\n",
    "    #target_cg_universe.add_TopologyAttr('resid', universe_aa_trajs[aa_traj_index].select_atoms('name CA').resids[indices])\n",
    "    \n",
    "    cg_pos_frame_0 = universe_cg_trajs[i].select_atoms('name CG').positions\n",
    "        \n",
    "    target_cg_universe.atoms.positions = cg_pos_frame_0\n",
    "                \n",
    "    target_cg_universe_list.append(target_cg_universe)\n",
    "    \n",
    "\n",
    "    "
   ]
  },
  {
   "cell_type": "code",
   "execution_count": 51,
   "metadata": {},
   "outputs": [],
   "source": [
    "#target_cg_universe_list[0].atoms.resids\n",
    "#universe_aa_trajs[0].atoms.resids #select_atoms('name CA').resids[indices]"
   ]
  },
  {
   "cell_type": "markdown",
   "metadata": {
    "scrolled": true
   },
   "source": [
    "#### Check indices of aa atoms corresponding to cg sites used for distance calculations"
   ]
  },
  {
   "cell_type": "code",
   "execution_count": 56,
   "metadata": {},
   "outputs": [
    {
     "name": "stdout",
     "output_type": "stream",
     "text": [
      "ag1\n",
      "index 14621 14756 14821 14918 15001 15087 15173 15213 15239 15273 15288 15312 15327 15342\n",
      "\n",
      " ag2\n",
      "index 26204 26290 26357 26429 26502 26570 26608 26655 26713 26737 26762 26796 26829 26864 26895\n",
      "\n",
      " ag3\n",
      "index 57 149 253 379 465 550 621 686 761 865 928 1019 1135 1224 1381 1513 1645 1789 1896 2021 2139 2241 2365 2519 2657 2739 2812 2907 2984 3053 3116 3218 3325 3425 3512 3596 3711 3859 3958 4044 4145 4248 4338 4414 4481 4542 4621 4706 4804 4881 4929 5029 5141 5231 5361 5540 5742 5871 5983 6119 6230 6328 6428 6527 6600\n",
      "\n",
      " ag4\n",
      "index 24438 24573 24684 24764 24817 24873 24924 24985 25075 25140 25216 25279 25334 25416 25475 25515 25545 25601 25649 25698 25753 25823 25888\n"
     ]
    }
   ],
   "source": [
    "\n",
    "print('ag1')\n",
    "print('index ' + ' '.join([ str(target_cg_universe_list[0].atoms.ids[x]) for x in np.arange(155, 169) ]))\n",
    "print('\\n ag2')\n",
    "print('index ' + ' '.join([ str(target_cg_universe_list[0].atoms.ids[x]) for x in np.arange(285, 300) ]))\n",
    "print('\\n ag3')\n",
    "print('index ' + ' '.join([ str(target_cg_universe_list[0].atoms.ids[x]) for x in np.arange(0, 65) ]))\n",
    "print('\\n ag4')\n",
    "print('index ' + ' '.join([ str(target_cg_universe_list[0].atoms.ids[x]) for x in np.arange(259, 282) ]))\n"
   ]
  },
  {
   "cell_type": "code",
   "execution_count": null,
   "metadata": {},
   "outputs": [],
   "source": []
  },
  {
   "cell_type": "code",
   "execution_count": null,
   "metadata": {},
   "outputs": [],
   "source": []
  },
  {
   "cell_type": "code",
   "execution_count": null,
   "metadata": {},
   "outputs": [],
   "source": []
  },
  {
   "cell_type": "markdown",
   "metadata": {
    "scrolled": true
   },
   "source": [
    "#### discard: initial target MD set up (mapping indices of RMSD calculations)"
   ]
  },
  {
   "cell_type": "code",
   "execution_count": 6,
   "metadata": {
    "scrolled": true
   },
   "outputs": [
    {
     "name": "stdout",
     "output_type": "stream",
     "text": [
      "index 57 149 253 379 465 550 621 686 761 865 928 1019 1135 1224 1381 1513 1645 1789 1896 2021 2139 2241 2365 2519 2657 2739 2812 2907 2984 3053 3116 3218 3325 3425 3512 3596 3711 3859 3958 4044 4145 4248 4338 4414 4481 4542 4621 4706 4804 4881 4929 5029 5141 5231 5361 5540 5742 5871 5983 6119 6230 6328 6428 6527 6600\n",
      "index 6664 6735 6808 6884 6978 7084 7175 7263 7350 7394 7467 7537 7581 7625 7673 7750 7846 7919 7954 7988 8049 8113 8207 8318 8447 8567 8673 8760 8869 8965 9022 9080 9126 9183 9255 9327 9413 9499 9584 9642 9732 9832 9931 10013 10135 10254 10381 10494 10583 10666 10732 10841 10948 11018 11086\n",
      "index 11166 11231 11332 11408 11490 11581 11689 11815 11915 11992 12108 12197 12344 12487 12614 12678 12723 12773 12833 12913 13009 13079 13208 13342 13451 13577 13693 13810 13924 14036 14137 14241 14330 14443 14536\n",
      "index 14621 14756 14821 14918 15001 15087 15173 15213 15239 15273 15288 15312 15327 15342\n",
      "index 15388 15491 15585 15672 15751 15828 15895 15977 16063 16124 16208 16284 16356 16432 16524 16613 16728 16868 17004 17164 17320 17496 17710 17867 18021 18144 18238 18358 18483 18648 18772 18855 18948 19058 19165 19270 19390 19530 19640 19769 19889 20056 20199 20321 20457 20568 20696 20838 20960 21032 21120 21193 21268 21336 21429 21531 21642 21727 21832 21942 22037\n",
      "index 22119 22200 22266 22301 22342 22375 22437 22508 22580 22664 22734 22809 22850 22900 22974 23055 23144 23260 23352 23485 23577\n",
      "index 23696 23784 23887 23977 24056 24144 24260 24354 24438 24573 24684 24764 24817 24873 24924 24985 25075 25140 25216 25279 25334 25416 25475 25515 25545 25601 25649 25698 25753\n",
      "index 25823 25888 25941 26024 26101 26204 26290 26357 26429 26502 26570 26608 26655 26713 26737 26762 26796 26829 26864 26895\n"
     ]
    }
   ],
   "source": [
    "#'index ' + ' '.join([ str(target_cg_universe.atoms.ids[x]-1) for x in np.arange(0, 300) ])\n",
    "#'id ' + ' '.join([ str(target_cg_universe_list[0].atoms.ids[x]) for x in np.arange(169, 300) ])\n",
    "\n",
    "print('index ' + ' '.join([ str(target_cg_universe_list[0].atoms.ids[x]) for x in np.arange(0, 65) ]))\n",
    "print('index ' + ' '.join([ str(target_cg_universe_list[0].atoms.ids[x]) for x in np.arange(65, 120) ]))\n",
    "print('index ' + ' '.join([ str(target_cg_universe_list[0].atoms.ids[x]) for x in np.arange(120, 155) ]))\n",
    "print('index ' + ' '.join([ str(target_cg_universe_list[0].atoms.ids[x]) for x in np.arange(155, 169) ]))\n",
    "\n",
    "\n",
    "print('index ' + ' '.join([ str(target_cg_universe_list[0].atoms.ids[x]) for x in np.arange(169, 230) ]))\n",
    "print('index ' + ' '.join([ str(target_cg_universe_list[0].atoms.ids[x]) for x in np.arange(230, 251) ]))\n",
    "print('index ' + ' '.join([ str(target_cg_universe_list[0].atoms.ids[x]) for x in np.arange(251, 280) ]))\n",
    "print('index ' + ' '.join([ str(target_cg_universe_list[0].atoms.ids[x]) for x in np.arange(280, 300) ]))\n",
    "\n"
   ]
  },
  {
   "cell_type": "code",
   "execution_count": 7,
   "metadata": {
    "scrolled": false
   },
   "outputs": [
    {
     "name": "stderr",
     "output_type": "stream",
     "text": [
      "/project2/andrewferguson/sivadasetty/doe/elss/lib/python3.9/site-packages/MDAnalysis/coordinates/PDB.py:775: UserWarning: Unit cell dimensions not found. CRYST1 record set to unitary values.\n",
      "  warnings.warn(\"Unit cell dimensions not found. \"\n",
      "/project2/andrewferguson/sivadasetty/doe/elss/lib/python3.9/site-packages/MDAnalysis/coordinates/PDB.py:1151: UserWarning: Found no information for attr: 'altLocs' Using default value of ' '\n",
      "  warnings.warn(\"Found no information for attr: '{}'\"\n",
      "/project2/andrewferguson/sivadasetty/doe/elss/lib/python3.9/site-packages/MDAnalysis/coordinates/PDB.py:1151: UserWarning: Found no information for attr: 'resnames' Using default value of 'UNK'\n",
      "  warnings.warn(\"Found no information for attr: '{}'\"\n",
      "/project2/andrewferguson/sivadasetty/doe/elss/lib/python3.9/site-packages/MDAnalysis/coordinates/PDB.py:1151: UserWarning: Found no information for attr: 'icodes' Using default value of ' '\n",
      "  warnings.warn(\"Found no information for attr: '{}'\"\n",
      "/project2/andrewferguson/sivadasetty/doe/elss/lib/python3.9/site-packages/MDAnalysis/coordinates/PDB.py:1151: UserWarning: Found no information for attr: 'segids' Using default value of ' '\n",
      "  warnings.warn(\"Found no information for attr: '{}'\"\n",
      "/project2/andrewferguson/sivadasetty/doe/elss/lib/python3.9/site-packages/MDAnalysis/coordinates/PDB.py:1151: UserWarning: Found no information for attr: 'chainIDs' Using default value of ''\n",
      "  warnings.warn(\"Found no information for attr: '{}'\"\n",
      "/project2/andrewferguson/sivadasetty/doe/elss/lib/python3.9/site-packages/MDAnalysis/coordinates/PDB.py:1151: UserWarning: Found no information for attr: 'occupancies' Using default value of '1.0'\n",
      "  warnings.warn(\"Found no information for attr: '{}'\"\n",
      "/project2/andrewferguson/sivadasetty/doe/elss/lib/python3.9/site-packages/MDAnalysis/coordinates/PDB.py:1151: UserWarning: Found no information for attr: 'tempfactors' Using default value of '0.0'\n",
      "  warnings.warn(\"Found no information for attr: '{}'\"\n",
      "/project2/andrewferguson/sivadasetty/doe/elss/lib/python3.9/site-packages/MDAnalysis/coordinates/PDB.py:1151: UserWarning: Found no information for attr: 'elements' Using default value of ' '\n",
      "  warnings.warn(\"Found no information for attr: '{}'\"\n",
      "/project2/andrewferguson/sivadasetty/doe/elss/lib/python3.9/site-packages/MDAnalysis/coordinates/PDB.py:1151: UserWarning: Found no information for attr: 'record_types' Using default value of 'ATOM'\n",
      "  warnings.warn(\"Found no information for attr: '{}'\"\n",
      "/project2/andrewferguson/sivadasetty/doe/elss/lib/python3.9/site-packages/MDAnalysis/coordinates/PDB.py:1151: UserWarning: Found no information for attr: 'formalcharges' Using default value of '0'\n",
      "  warnings.warn(\"Found no information for attr: '{}'\"\n",
      "/project2/andrewferguson/sivadasetty/doe/elss/lib/python3.9/site-packages/MDAnalysis/coordinates/PDB.py:1198: UserWarning: Found missing chainIDs. Corresponding atoms will use value of 'X'\n",
      "  warnings.warn(\"Found missing chainIDs.\"\n"
     ]
    }
   ],
   "source": [
    "#### save to memory\n",
    "file_dir = '/project2/andrewferguson/sivadasetty/doe/analysis-integrin/'\n",
    "\n",
    "for i in range(19):\n",
    "\n",
    "    cg_atoms = target_cg_universe_list[i].select_atoms(\"name CG\")\n",
    "    cg_atoms.write(file_dir+'string_mechanisms/deadbolt/initial_cg_frames/fr_beta_int_resmapped_'+str(i)+'.pdb',reindex=False)\n",
    "    "
   ]
  },
  {
   "cell_type": "code",
   "execution_count": null,
   "metadata": {
    "scrolled": false
   },
   "outputs": [],
   "source": []
  },
  {
   "cell_type": "code",
   "execution_count": null,
   "metadata": {
    "scrolled": true
   },
   "outputs": [],
   "source": []
  },
  {
   "cell_type": "code",
   "execution_count": 8,
   "metadata": {
    "scrolled": true
   },
   "outputs": [
    {
     "data": {
      "text/plain": [
       "'id 57 149 253 379 465 550 621 686 761 865 928 1019 1135 1224 1381 1513 1645 1789 1896 2021 2139 2241 2365 2519 2657 2739 2812 2907 2984 3053 3116 3218 3325 3425 3512 3596 3711 3859 3958 4044 4145 4248 4338 4414 4481 4542 4621 4706 4804 4881 4929 5029 5141 5231 5361 5540 5742 5871 5983 6119 6230 6328 6428 6527 6600 6664 6735 6808 6884 6978 7084 7175 7263 7350 7394 7467 7537 7581 7625 7673 7750 7846 7919 7954 7988 8049 8113 8207 8318 8447 8567 8673 8760 8869 8965 9022 9080 9126 9183 9255 9327 9413 9499 9584 9642 9732 9832 9931 10013 10135 10254 10381 10494 10583 10666 10732 10841 10948 11018 11086 11166 11231 11332 11408 11490 11581 11689 11815 11915 11992 12108 12197 12344 12487 12614 12678 12723 12773 12833 12913 13009 13079 13208 13342 13451 13577 13693 13810 13924 14036 14137 14241 14330 14443 14536 14621 14756 14821 14918 15001 15087 15173 15213 15239 15273 15288 15312 15327 15342'"
      ]
     },
     "execution_count": 8,
     "metadata": {},
     "output_type": "execute_result"
    }
   ],
   "source": [
    "'id ' + ' '.join([ str(target_cg_universe_list[0].atoms.ids[i]) for i in np.arange(0, 169) ])"
   ]
  },
  {
   "cell_type": "code",
   "execution_count": 15,
   "metadata": {
    "scrolled": true
   },
   "outputs": [
    {
     "data": {
      "text/plain": [
       "0"
      ]
     },
     "execution_count": 15,
     "metadata": {},
     "output_type": "execute_result"
    }
   ],
   "source": [
    "#### ON SHELL --- FIRST SET EACH TARGET PDB TO APPROPRIATE (based on INT/BENT/OPEN) BOX.\n",
    "#bent_indices\n",
    "aa_traj_index"
   ]
  },
  {
   "cell_type": "code",
   "execution_count": 9,
   "metadata": {
    "scrolled": false
   },
   "outputs": [],
   "source": [
    "#### save to memory\n",
    "\n",
    "for i in range(19):\n",
    "    box_u = mda.Universe(file_dir+'string_mechanisms/deadbolt/initial_cg_frames/mdanalysis_files/fr_beta_int_resmapped_'+str(i)+'_box.pdb')\n",
    "\n",
    "    box_u.add_TopologyAttr('tempfactors')\n",
    "    box_u.atoms.tempfactors = np.ones(np.shape(box_u.atoms.tempfactors))\n",
    "    #print(box_u.atoms.tempfactors)\n",
    "    \n",
    "    mapping_on = 'bent'\n",
    "    if mapping_on == 'bent':\n",
    "        aa_traj_index = 0\n",
    "        indices = bent_indices\n",
    "    else:\n",
    "        raise Exception(\"INVALID OPTION\")\n",
    "                \n",
    "    box_u.add_TopologyAttr('id', universe_aa_trajs[aa_traj_index].select_atoms('name CA').indices[indices]+1)\n",
    "        \n",
    "    pro = box_u.select_atoms('id ' + ' '.join([ str(target_cg_universe_list[i].atoms.ids[j]) for j in np.arange(0, 300) ]))\n",
    "    \n",
    "    proa = box_u.select_atoms('id ' + ' '.join([ str(target_cg_universe_list[i].atoms.ids[j]) for j in np.arange(0, 169) ]))\n",
    "    \n",
    "    proa0 = box_u.select_atoms('id ' + ' '.join([ str(target_cg_universe_list[i].atoms.ids[j]) for j in np.arange(0, 65) ]))\n",
    "    #proa1 = box_u.select_atoms('id ' + ' '.join([ str(target_cg_universe_list[i].atoms.ids[j]) for j in np.arange(65, 120) ]))\n",
    "    #proa2 = box_u.select_atoms('id ' + ' '.join([ str(target_cg_universe_list[i].atoms.ids[j]) for j in np.arange(120, 155) ]))\n",
    "    #proa3 = box_u.select_atoms('id ' + ' '.join([ str(target_cg_universe_list[i].atoms.ids[j]) for j in np.arange(155, 169) ]))\n",
    "    \n",
    "    prob = box_u.select_atoms('id ' + ' '.join([ str(target_cg_universe_list[i].atoms.ids[j]) for j in np.arange(169, 300) ]))\n",
    "    \n",
    "    prob0 = box_u.select_atoms('id ' + ' '.join([ str(target_cg_universe_list[i].atoms.ids[j]) for j in np.arange(169, 230) ]))\n",
    "    #prob1 = box_u.select_atoms('id ' + ' '.join([ str(target_cg_universe_list[i].atoms.ids[j]) for j in np.arange(230, 251) ]))\n",
    "    #prob2 = box_u.select_atoms('id ' + ' '.join([ str(target_cg_universe_list[i].atoms.ids[j]) for j in np.arange(251, 280) ]))\n",
    "    #prob3 = box_u.select_atoms('id ' + ' '.join([ str(target_cg_universe_list[i].atoms.ids[j]) for j in np.arange(280, 300) ]))\n",
    "    \n",
    "    \n",
    "    ## RENAME previous custom -- execute only when needed.\n",
    "#     if os.path.isfile(file_dir+'string_mechanisms/deadbolt/initial_cg_frames/fr_beta_int_resmapped_'+str(i)+'_box_proa.pdb'):\n",
    "#         os.rename('multiple_fake_points_integrin/'+state_list[x]+'/target_cg_resmapped_'+str(rep)+'_box_proa.pdb',\n",
    "#                   'multiple_fake_points_integrin/'+state_list[x]+'/target_cg_resmapped_'+str(rep)+'_box_init_proa.pdb')\n",
    "#     if os.path.isfile('multiple_fake_points_integrin/'+state_list[x]+'/target_cg_resmapped_'+str(rep)+'_box_prob.pdb'):\n",
    "#         os.rename('multiple_fake_points_integrin/'+state_list[x]+'/target_cg_resmapped_'+str(rep)+'_box_prob.pdb',\n",
    "#                   'multiple_fake_points_integrin/'+state_list[x]+'/target_cg_resmapped_'+str(rep)+'_box_init_prob.pdb')\n",
    "    \n",
    "    pro.write(file_dir+'string_mechanisms/deadbolt/initial_cg_frames/mdanalysis_files/fr_beta_int_resmapped_'+str(i)+'_box_renum.pdb',reindex=False)\n",
    "    \n",
    "    proa.write(file_dir+'string_mechanisms/deadbolt/initial_cg_frames/mdanalysis_files/fr_beta_int_resmapped_'+str(i)+'_box_proa.pdb',reindex=False)\n",
    "    \n",
    "    proa0.write(file_dir+'string_mechanisms/deadbolt/initial_cg_frames/mdanalysis_files/fr_beta_int_resmapped_'+str(i)+'_box_proa0.pdb',reindex=False)\n",
    "    #proa1.write(file_dir+'string_mechanisms/deadbolt/initial_cg_frames/mdanalysis_files/fr_beta_int_resmapped_'+str(i)+'_box_proa1.pdb',reindex=False)\n",
    "    #proa2.write(file_dir+'string_mechanisms/deadbolt/initial_cg_frames/mdanalysis_files/fr_beta_int_resmapped_'+str(i)+'_box_proa2.pdb',reindex=False)\n",
    "    #proa3.write(file_dir+'string_mechanisms/deadbolt/initial_cg_frames/mdanalysis_files/fr_beta_int_resmapped_'+str(i)+'_box_proa3.pdb',reindex=False)\n",
    "    \n",
    "    prob.write(file_dir+'string_mechanisms/deadbolt/initial_cg_frames/mdanalysis_files/fr_beta_int_resmapped_'+str(i)+'_box_prob.pdb',reindex=False)\n",
    "\n",
    "    prob0.write(file_dir+'string_mechanisms/deadbolt/initial_cg_frames/mdanalysis_files/fr_beta_int_resmapped_'+str(i)+'_box_prob0.pdb',reindex=False)\n",
    "    #prob1.write(file_dir+'string_mechanisms/deadbolt/initial_cg_frames/mdanalysis_files/fr_beta_int_resmapped_'+str(i)+'_box_prob1.pdb',reindex=False)\n",
    "    #prob2.write(file_dir+'string_mechanisms/deadbolt/initial_cg_frames/mdanalysis_files/fr_beta_int_resmapped_'+str(i)+'_box_prob2.pdb',reindex=False)\n",
    "    #prob3.write(file_dir+'string_mechanisms/deadbolt/initial_cg_frames/mdanalysis_files/fr_beta_int_resmapped_'+str(i)+'_box_prob3.pdb',reindex=False)\n",
    "    "
   ]
  },
  {
   "cell_type": "code",
   "execution_count": 18,
   "metadata": {
    "scrolled": true
   },
   "outputs": [],
   "source": [
    "#proa.atoms."
   ]
  },
  {
   "cell_type": "code",
   "execution_count": null,
   "metadata": {
    "scrolled": true
   },
   "outputs": [],
   "source": []
  },
  {
   "cell_type": "code",
   "execution_count": null,
   "metadata": {
    "scrolled": true
   },
   "outputs": [],
   "source": []
  }
 ],
 "metadata": {
  "kernelspec": {
   "display_name": "Python 3 (ipykernel)",
   "language": "python",
   "name": "python3"
  },
  "language_info": {
   "codemirror_mode": {
    "name": "ipython",
    "version": 3
   },
   "file_extension": ".py",
   "mimetype": "text/x-python",
   "name": "python",
   "nbconvert_exporter": "python",
   "pygments_lexer": "ipython3",
   "version": "3.9.16"
  }
 },
 "nbformat": 4,
 "nbformat_minor": 4
}
