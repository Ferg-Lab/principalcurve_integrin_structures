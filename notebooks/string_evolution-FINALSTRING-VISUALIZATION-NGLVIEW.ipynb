{
 "cells": [
  {
   "cell_type": "markdown",
   "metadata": {},
   "source": [
    "#### Integrin"
   ]
  },
  {
   "cell_type": "markdown",
   "metadata": {},
   "source": [
    "## setup"
   ]
  },
  {
   "cell_type": "code",
   "execution_count": null,
   "metadata": {},
   "outputs": [],
   "source": []
  },
  {
   "cell_type": "code",
   "execution_count": 1,
   "metadata": {},
   "outputs": [
    {
     "name": "stdout",
     "output_type": "stream",
     "text": [
      "no display found. Using non-interactive Agg backend\n"
     ]
    },
    {
     "data": {
      "application/vnd.jupyter.widget-view+json": {
       "model_id": "ff50d4035bff4ffdb12459c099a08d1d",
       "version_major": 2,
       "version_minor": 0
      },
      "text/plain": []
     },
     "metadata": {},
     "output_type": "display_data"
    }
   ],
   "source": [
    "import os\n",
    "import sys\n",
    "import math\n",
    "import time\n",
    "import pickle\n",
    "import copy\n",
    "#import mdtraj\n",
    "import MDAnalysis as mda\n",
    "#import pyemma\n",
    "#import pyemma.util.contexts\n",
    "import networkx as nx\n",
    "import random\n",
    "#import parmed as pmd\n",
    "#import acpype\n",
    "import pandas as pd\n",
    "from MDAnalysis.analysis import distances\n",
    "from MDAnalysis.analysis import rms\n",
    "\n",
    "\n",
    "import numpy as np\n",
    "from scipy.linalg import eigh\n",
    "from scipy.spatial.distance import pdist\n",
    "from scipy.interpolate import interp1d\n",
    "import matplotlib as mpl\n",
    "from matplotlib import ticker\n",
    "if os.environ.get('DISPLAY','') == '':\n",
    "    print('no display found. Using non-interactive Agg backend')\n",
    "    mpl.use('Agg')\n",
    "import matplotlib.pyplot as plt\n",
    "from mpl_toolkits.mplot3d import Axes3D\n",
    "\n",
    "\n",
    "import nglview as nv\n",
    "\n",
    "import glob"
   ]
  },
  {
   "cell_type": "code",
   "execution_count": 2,
   "metadata": {},
   "outputs": [],
   "source": [
    "\n",
    "from importlib import reload \n",
    "import sys\n"
   ]
  },
  {
   "cell_type": "markdown",
   "metadata": {},
   "source": [
    "#### plot settings"
   ]
  },
  {
   "cell_type": "code",
   "execution_count": 3,
   "metadata": {},
   "outputs": [],
   "source": [
    "showPlots=1\n",
    "useMagics=1\n",
    "if useMagics:\n",
    "    %matplotlib inline\n",
    "    #%matplotlib notebook\n",
    "    %load_ext autoreload\n",
    "    %autoreload 2\n",
    "    %reload_ext autoreload\n",
    "    \n",
    "font = {'weight' : 'normal',\n",
    "        'size'   : 25}\n",
    "\n",
    "plt.rc('font', **font)"
   ]
  },
  {
   "cell_type": "code",
   "execution_count": null,
   "metadata": {},
   "outputs": [],
   "source": []
  },
  {
   "cell_type": "code",
   "execution_count": null,
   "metadata": {},
   "outputs": [],
   "source": []
  },
  {
   "cell_type": "markdown",
   "metadata": {},
   "source": [
    "## Create MD analysis universe"
   ]
  },
  {
   "cell_type": "code",
   "execution_count": 4,
   "metadata": {},
   "outputs": [],
   "source": [
    "\n",
    "# Domain composition alpha IIb:\n",
    "# beta propeller: 1-452\n",
    "# Thigh: 453-608\n",
    "# Calf-1: 609-743\n",
    "# Calf-2: 744-964\n",
    "# Transmembrane: 965-1008\n",
    "\n",
    "# Domain composition  Beta 3:\n",
    "# beta I: residue 110-352\n",
    "# Hyb: residue 58-109 + 353-432\n",
    "# Psi: residue 1-57\n",
    "# E1: 433-475\n",
    "# E2: 476-525\n",
    "# E3: 526-560\n",
    "# E4: 561-604\n",
    "# beta-T: 605-690\n",
    "# Transmembrane: 691-772\n",
    "\n",
    "\n",
    "# final_string_universe_image = {}\n",
    "\n",
    "# for images in range(19):\n",
    "\n",
    "#     final_string_struct = path_to_structures+'/iter147/target_md_'+str(images)+'/minimize-protein.pdb'\n",
    "#     final_string_universe = mda.Universe(final_string_struct) \n",
    "#     final_string_universe_image[images] = final_string_universe\n",
    "            \n",
    "   "
   ]
  },
  {
   "cell_type": "code",
   "execution_count": null,
   "metadata": {},
   "outputs": [],
   "source": []
  },
  {
   "cell_type": "code",
   "execution_count": null,
   "metadata": {},
   "outputs": [],
   "source": []
  },
  {
   "cell_type": "code",
   "execution_count": 51,
   "metadata": {},
   "outputs": [
    {
     "name": "stdout",
     "output_type": "stream",
     "text": [
      "file exists\n",
      "/project2/andrewferguson/sivadasetty/doe/analysis-integrin/string_mechanisms/deadbolt/string_parallel_100k_full_lipid_case/final_string//iter2/target_md_8/minimize-protein.pdb\n"
     ]
    }
   ],
   "source": [
    "from MDAnalysis import transformations\n",
    "from MDAnalysis.analysis import align\n",
    "\n",
    "path_to_structures = '/project2/andrewferguson/sivadasetty/doe/analysis-integrin/string_mechanisms/deadbolt/string_parallel_100k_full_lipid_case/final_string/'\n",
    "# path_to_structures='/project2/andrewferguson/sivadasetty/doe/analysis-integrin/string_mechanisms/deadbolt/string_parallel_100k_full_lipid_case/string/'\n",
    "\n",
    "\n",
    "hexcolors = [\n",
    "    \"#1f77b4\",  # blue\n",
    "    \"#aec7e8\",  # light blue\n",
    "    \"#ff7f0e\",  # orange\n",
    "    \"#ffbb78\",  # light orange\n",
    "    \"#2ca02c\",  # green\n",
    "    \"#98df8a\",  # light green\n",
    "    \"#d62728\",  # red [hyb1]\n",
    "    \"#d62728\",  # red [hyb2]\n",
    "    \"#ff9896\",  # light red\n",
    "    \"#9467bd\",  # purple\n",
    "    \"#c5b0d5\",  # light purple\n",
    "    \"#8c564b\",  # brown\n",
    "    \"#c49c94\",  # light brown\n",
    "    \"#e377c2\",  # pink\n",
    "    \"#f7b6d2\",  # light pink\n",
    "    \"#7f7f7f\",  # gray\n",
    "    \"#c7c7c7\",  # light gray\n",
    "    \"#bcbd22\",  # olive\n",
    "    \"#dbdb8d\",  # light olive\n",
    "    \"#17becf\",  # teal\n",
    "    \"#9edae5\"   # light teal\n",
    "]\n",
    "\n",
    "views_final_string = {}\n",
    "\n",
    "for string_image in [8]:\n",
    "    \n",
    "    view = nv.NGLWidget()\n",
    "    view.clear()\n",
    "    \n",
    "\n",
    "#     final_string_struct = path_to_structures+'/iter147/target_md_'+str(string_image)+'/minimize-protein.pdb'\n",
    "    \n",
    "    final_string_struct = path_to_structures+'/iter2/target_md_'+str(string_image)+'/minimize-protein.pdb'\n",
    "#     final_string_struct = path_to_structures+'/iter249/target_md_'+str(string_image)+'/minimize-protein.pdb'\n",
    "    \n",
    "    if os.path.exists(final_string_struct):\n",
    "        print('file exists')\n",
    "    else:\n",
    "        break\n",
    "    \n",
    "    print(final_string_struct)\n",
    "    \n",
    "    final_string_universe = mda.Universe(final_string_struct) \n",
    "\n",
    "    \n",
    "    rotation = transformations.rotate.rotateby(90, direction=[0,0,-1], ag=final_string_universe.atoms)\n",
    "    rotation2 = transformations.rotate.rotateby(-90, direction=[1,0,0], ag=final_string_universe.atoms)\n",
    "    rotation3 = transformations.rotate.rotateby(180, direction=[0,1,0], ag=final_string_universe.atoms)\n",
    "#     rotation3 = transformations.rotate.rotateby(270, direction=[0,1,0], ag=final_string_universe.atoms)\n",
    "    \n",
    "    \n",
    "    final_string_universe.trajectory.add_transformations(rotation,rotation2,rotation3)\n",
    "    \n",
    "    final_string_universe_beta_propeller = final_string_universe.select_atoms('segid is A').atoms.select_atoms('resid 1 to 452')\n",
    "    final_string_universe_thigh = final_string_universe.select_atoms('segid is A').atoms.select_atoms('resid 452 to 608')\n",
    "    final_string_universe_calf1 = final_string_universe.select_atoms('segid is A').atoms.select_atoms('resid 608 to 743')\n",
    "    final_string_universe_calf2 = final_string_universe.select_atoms('segid is A').atoms.select_atoms('resid 743 to 964')\n",
    "    final_string_universe_alpha_tm = final_string_universe.select_atoms('segid is A').atoms.select_atoms('resid 964 to 1008')\n",
    "\n",
    "    final_string_universe_beta_I = final_string_universe.select_atoms('segid is B').atoms.select_atoms('resid 109 to 352')\n",
    "    final_string_universe_hyb1 = final_string_universe.select_atoms('segid is B').atoms.select_atoms('resid 57 to 109')\n",
    "    final_string_universe_hyb2 = final_string_universe.select_atoms('segid is B').atoms.select_atoms('resid 352 to 432')\n",
    "    final_string_universe_psi = final_string_universe.select_atoms('segid is B').atoms.select_atoms('resid 1 to 57')\n",
    "    final_string_universe_e1 = final_string_universe.select_atoms('segid is B').atoms.select_atoms('resid 432 to 475')\n",
    "    final_string_universe_e2 = final_string_universe.select_atoms('segid is B').atoms.select_atoms('resid 475 to 525')\n",
    "    final_string_universe_e3 = final_string_universe.select_atoms('segid is B').atoms.select_atoms('resid 525 to 560')\n",
    "    final_string_universe_e4 = final_string_universe.select_atoms('segid is B').atoms.select_atoms('resid 560 to 604')\n",
    "    final_string_universe_beta_t = final_string_universe.select_atoms('segid is B').atoms.select_atoms('resid 604 to 690')\n",
    "    final_string_universe_beta_tm = final_string_universe.select_atoms('segid is B').atoms.select_atoms('resid 690 to 772')\n",
    "        \n",
    "    all_alpha_string_domains = [final_string_universe_beta_propeller, final_string_universe_thigh, \n",
    "                                final_string_universe_calf1, final_string_universe_calf2, \n",
    "                                final_string_universe_alpha_tm]\n",
    "\n",
    "    all_beta_string_domains = [final_string_universe_beta_I, final_string_universe_hyb1,\n",
    "                               final_string_universe_hyb2, final_string_universe_psi, \n",
    "                               final_string_universe_e1, final_string_universe_e2,\n",
    "                               final_string_universe_e3, final_string_universe_e4, \n",
    "                               final_string_universe_beta_t, final_string_universe_beta_tm]\n",
    "\n",
    "    count_i = 0\n",
    "    count_colors = 0\n",
    "    for e in all_alpha_string_domains:\n",
    "\n",
    "        if e.atoms.n_atoms != 0:\n",
    "            view.add_trajectory(nv.MDAnalysisTrajectory(e))\n",
    "            view.clear_representations(component=count_i)\n",
    "            #print(count_colors, count_i, e.atoms.n_atoms, hexcolors[count_colors])\n",
    "            view.add_representation('cartoon', selection='all', radiusScale=1, component=count_i, \n",
    "                                    colorScheme='uniform', color=hexcolors[count_colors])                                \n",
    "            count_i+=1\n",
    "        count_colors+=1\n",
    "        \n",
    "    for e in all_beta_string_domains:\n",
    "\n",
    "        if e.atoms.n_atoms != 0:\n",
    "            #print(e.atoms.n_atoms)\n",
    "            #print(count_colors, count_i, e.atoms.n_atoms, hexcolors[count_colors])\n",
    "            view.add_trajectory(nv.MDAnalysisTrajectory(e))\n",
    "            view.clear_representations(component=count_i)\n",
    "            view.add_representation('cartoon', selection='all', radiusScale=1, component=count_i, \n",
    "                                    colorScheme='uniform', color=hexcolors[count_colors])\n",
    "            count_i+=1\n",
    "        count_colors+=1\n",
    "            \n",
    "                \n",
    "#     view.control.spin([1, 0, 0], math.pi/2)\n",
    "    view._set_size('800px', '800px')\n",
    "    view.camera = 'orthographic'\n",
    "             \n",
    "    views_final_string[string_image] = view\n"
   ]
  },
  {
   "cell_type": "code",
   "execution_count": null,
   "metadata": {},
   "outputs": [],
   "source": []
  },
  {
   "cell_type": "code",
   "execution_count": 52,
   "metadata": {},
   "outputs": [
    {
     "data": {
      "application/vnd.jupyter.widget-view+json": {
       "model_id": "1999503865fa4ff8b2f7c38826fd2e15",
       "version_major": 2,
       "version_minor": 0
      },
      "text/plain": [
       "NGLWidget()"
      ]
     },
     "metadata": {},
     "output_type": "display_data"
    }
   ],
   "source": [
    "\n",
    "view\n"
   ]
  },
  {
   "cell_type": "code",
   "execution_count": 53,
   "metadata": {},
   "outputs": [
    {
     "data": {
      "application/vnd.jupyter.widget-view+json": {
       "model_id": "1999503865fa4ff8b2f7c38826fd2e15",
       "version_major": 2,
       "version_minor": 0
      },
      "text/plain": [
       "NGLWidget(n_components=15)"
      ]
     },
     "metadata": {},
     "output_type": "display_data"
    }
   ],
   "source": [
    "\n",
    "for string_image, view in views_final_string.items():\n",
    "\n",
    "    display(view)\n",
    "    view.download_image(filename='final_integrin_string_'+str(string_image)+'-init.png', factor=10, \n",
    "                        antialias=False, trim=True, transparent=True)\n",
    "#     view.download_image(filename='final_integrin_string_'+str(string_image)+'.png', factor=10, \n",
    "#                         antialias=False, trim=True, transparent=True)\n",
    "\n",
    "\n",
    "#     view.download_image(filename='initial_integrin_string_'+str(string_image)+'-init.png', factor=10, \n",
    "#                         antialias=False, trim=True, transparent=True)\n",
    "#     view.download_image(filename='initial_final_integrin_string_'+str(string_image)+'.png', factor=10, \n",
    "#                         antialias=False, trim=True, transparent=True)\n",
    "\n"
   ]
  },
  {
   "cell_type": "markdown",
   "metadata": {},
   "source": [
    "### "
   ]
  },
  {
   "cell_type": "code",
   "execution_count": null,
   "metadata": {},
   "outputs": [],
   "source": []
  },
  {
   "cell_type": "code",
   "execution_count": null,
   "metadata": {},
   "outputs": [],
   "source": []
  },
  {
   "cell_type": "code",
   "execution_count": 87,
   "metadata": {},
   "outputs": [
    {
     "data": {
      "application/vnd.jupyter.widget-view+json": {
       "model_id": "2ca38a5c73c347068adab26f0c687a6a",
       "version_major": 2,
       "version_minor": 0
      },
      "text/plain": [
       "NGLWidget(max_frame=50)"
      ]
     },
     "metadata": {},
     "output_type": "display_data"
    }
   ],
   "source": [
    "temp_mduniverse = mda.Universe('/project2/andrewferguson/sivadasetty/doe/analysis-integrin/string_mechanisms/deadbolt/string_parallel_100k_full_lipid_case/string/iter0/target_md_12/minimize.pdb',\n",
    "                               '/project2/andrewferguson/sivadasetty/doe/analysis-integrin/string_mechanisms/deadbolt/string_parallel_100k_full_lipid_case/string/iter0/target_md_12/output.xtc'\n",
    "                              )\n",
    "\n",
    "view = nv.show_mdanalysis(temp_mduniverse)\n",
    "\n",
    "view\n"
   ]
  },
  {
   "cell_type": "code",
   "execution_count": null,
   "metadata": {},
   "outputs": [],
   "source": []
  }
 ],
 "metadata": {
  "kernelspec": {
   "display_name": "Python 3 (ipykernel)",
   "language": "python",
   "name": "python3"
  },
  "language_info": {
   "codemirror_mode": {
    "name": "ipython",
    "version": 3
   },
   "file_extension": ".py",
   "mimetype": "text/x-python",
   "name": "python",
   "nbconvert_exporter": "python",
   "pygments_lexer": "ipython3",
   "version": "3.9.16"
  }
 },
 "nbformat": 4,
 "nbformat_minor": 4
}
